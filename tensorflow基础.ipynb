{
 "cells": [
  {
   "cell_type": "code",
   "execution_count": 1,
   "metadata": {
    "collapsed": true
   },
   "outputs": [],
   "source": [
    "import tensorflow as tf \n",
    "import numpy as np"
   ]
  },
  {
   "cell_type": "code",
   "execution_count": 2,
   "metadata": {
    "collapsed": true
   },
   "outputs": [],
   "source": [
    "x_data = np.float32(np.random.rand(2, 100)) # 随机输入\n",
    "y_data = np.dot([0.100, 0.200], x_data) + 0.300"
   ]
  },
  {
   "cell_type": "code",
   "execution_count": 3,
   "metadata": {},
   "outputs": [
    {
     "name": "stdout",
     "output_type": "stream",
     "text": [
      "WARNING:tensorflow:From F:\\anoconda\\lib\\site-packages\\tensorflow\\python\\util\\tf_should_use.py:118: initialize_all_variables (from tensorflow.python.ops.variables) is deprecated and will be removed after 2017-03-02.\n",
      "Instructions for updating:\n",
      "Use `tf.global_variables_initializer` instead.\n"
     ]
    }
   ],
   "source": [
    "# 构造一个线性模型\n",
    "# \n",
    "b = tf.Variable(tf.zeros([1]))\n",
    "W = tf.Variable(tf.random_uniform([1, 2], -1.0, 1.0))\n",
    "y = tf.matmul(W, x_data) + b\n",
    "\n",
    "# 最小化方差\n",
    "loss = tf.reduce_mean(tf.square(y - y_data))\n",
    "optimizer = tf.train.GradientDescentOptimizer(0.5)\n",
    "train = optimizer.minimize(loss)\n",
    "\n",
    "# 初始化变量\n",
    "init = tf.initialize_all_variables()\n",
    "\n",
    "# 启动图 (graph)\n",
    "sess = tf.Session()\n",
    "sess.run(init)\n"
   ]
  },
  {
   "cell_type": "code",
   "execution_count": 7,
   "metadata": {},
   "outputs": [
    {
     "name": "stdout",
     "output_type": "stream",
     "text": [
      "0 [[ 0.65815401  0.32266214]] [-0.07014604]\n",
      "20 [[ 0.259004    0.25483221]] [ 0.19644268]\n",
      "40 [[ 0.14497289  0.21912579]] [ 0.26875514]\n",
      "60 [[ 0.11288873  0.20627004]] [ 0.29061931]\n",
      "80 [[ 0.10373051  0.20198458]] [ 0.29719311]\n",
      "100 [[ 0.10108766  0.20061478]] [ 0.29916209]\n",
      "120 [[ 0.10031881  0.20018786]] [ 0.29975027]\n",
      "140 [[ 0.1000938   0.20005688]] [ 0.29992566]\n",
      "160 [[ 0.10002767  0.20001712]] [ 0.2999779]\n",
      "180 [[ 0.10000819  0.20000513]] [ 0.29999343]\n",
      "200 [[ 0.10000242  0.20000154]] [ 0.29999804]\n"
     ]
    }
   ],
   "source": [
    "# 拟合平面\n",
    "for step in range(0, 201):\n",
    "    sess.run(train)\n",
    "    if step % 20 == 0:\n",
    "        print(step, sess.run(W), sess.run(b))"
   ]
  },
  {
   "cell_type": "markdown",
   "metadata": {},
   "source": [
    "### 下面讲一下tensorflow的基本使用"
   ]
  },
  {
   "cell_type": "code",
   "execution_count": 17,
   "metadata": {
    "collapsed": true
   },
   "outputs": [],
   "source": [
    "##构建图\n",
    "import tensorflow as tf\n",
    "matrix1 = tf.constant([[3.,3.]])\n",
    "matrix2 = tf.constant([[2.],[2.]])\n",
    "product = tf.matmul(matrix1, matrix2)"
   ]
  },
  {
   "cell_type": "code",
   "execution_count": 83,
   "metadata": {
    "collapsed": true
   },
   "outputs": [],
   "source": [
    "##在会话中启动图\n",
    "with tf.Session() as sess:\n",
    "    with tf.device(\"/cpu:0\"):\n",
    "        matrix1 = tf.constant([[3., 3.]])\n",
    "        matrix2 = tf.constant([[2.],[2.]])\n",
    "        product = tf.matmul(matrix1, matrix2)\n",
    "        sess1 = tf.Session()\n",
    "        result = sess1.run(product)\n",
    "        print(result)\n",
    "        sess1.close()"
   ]
  },
  {
   "cell_type": "code",
   "execution_count": 26,
   "metadata": {},
   "outputs": [
    {
     "name": "stdout",
     "output_type": "stream",
     "text": [
      "[-2. -1.]\n"
     ]
    }
   ],
   "source": [
    "##交互式使用\n",
    "# 进入一个交互式 TensorFlow 会话.\n",
    "#sub函数被换成了subtract \n",
    "import tensorflow as tf\n",
    "sess = tf.InteractiveSession()\n",
    "\n",
    "x = tf.Variable([1.0, 2.0])\n",
    "a = tf.constant([3.0, 3.0])\n",
    "\n",
    "# 使用初始化器 initializer op 的 run() 方法初始化 'x' \n",
    "x.initializer.run()\n",
    "\n",
    "# 增加一个减法 sub op, 从 'x' 减去 'a'. 运行减法 op, 输出结果 \n",
    "sub = tf.subtract(x, a)\n",
    "print (sub.eval())"
   ]
  },
  {
   "cell_type": "code",
   "execution_count": 62,
   "metadata": {},
   "outputs": [
    {
     "name": "stdout",
     "output_type": "stream",
     "text": [
      "0\n"
     ]
    }
   ],
   "source": [
    "###变量\n",
    "# 创建一个变量, 初始化为标量 0.\n",
    "state = tf.Variable(0, name=\"counter\")\n",
    "\n",
    "# 创建一个 op, 其作用是使 state 增加 1\n",
    "one = tf.constant(1)\n",
    "new_value = tf.add(state, one)\n",
    "update = tf.assign(state,new_value)\n",
    "init_op = tf.initialize_all_variables()\n",
    "sess = tf.InteractiveSession()\n",
    "sess.run(init_op)\n",
    "print(sess.run(state))\n",
    "sess.close()"
   ]
  },
  {
   "cell_type": "code",
   "execution_count": 60,
   "metadata": {
    "scrolled": false
   },
   "outputs": [
    {
     "name": "stdout",
     "output_type": "stream",
     "text": [
      "21.0\n"
     ]
    }
   ],
   "source": [
    "# Fetch的使用\n",
    "\n",
    "input1 = tf.constant(3.0)\n",
    "input2 = tf.constant(2.0)\n",
    "input3 = tf.constant(5.0)\n",
    "intermed = tf.add(input2, input3)\n",
    "mul = tf.multiply(input1, intermed)\n",
    "sess = tf.InteractiveSession()\n",
    "result = sess.run(mul)\n",
    "print (result)\n",
    "sess.close()"
   ]
  },
  {
   "cell_type": "code",
   "execution_count": 67,
   "metadata": {
    "collapsed": true
   },
   "outputs": [],
   "source": [
    "# Feed的使用\n",
    "input1 = tf.placeholder(tf.types.float32)\n",
    "input2 = tf.placeholder(tf.types.float32)\n",
    "output = tf.multiply(input1, input2)\n",
    "sess = tf.InteractiveSession()\n",
    "print (sess.run([output], feed_dict={input1:[7.], input2:[2.]}))\n",
    "sess.close()"
   ]
  },
  {
   "cell_type": "markdown",
   "metadata": {},
   "source": [
    "### 下面开始编y=ax+b 这对tensorflow入门很重要"
   ]
  },
  {
   "cell_type": "code",
   "execution_count": 34,
   "metadata": {
    "collapsed": true
   },
   "outputs": [],
   "source": [
    "#导入依赖库\n",
    "import numpy as np #这是Python的一种开源的数值计算扩展，非常强大\n",
    "import tensorflow as tf  #导入tensorflow "
   ]
  },
  {
   "cell_type": "code",
   "execution_count": 35,
   "metadata": {
    "collapsed": true
   },
   "outputs": [],
   "source": [
    "##构造数据##\n",
    "x_data=np.random.rand(100).astype(np.float32) #随机生成100个类型为float32的值\n",
    "y_data=x_data*0.1+0.3  #定义方程式y=x_data*A+B"
   ]
  },
  {
   "cell_type": "code",
   "execution_count": 36,
   "metadata": {},
   "outputs": [
    {
     "name": "stdout",
     "output_type": "stream",
     "text": [
      "0 [ 0.85814476] [-0.15365653]\n",
      "20 [ 0.36741844] [ 0.15704426]\n",
      "40 [ 0.19188842] [ 0.25087857]\n",
      "60 [ 0.13157405] [ 0.28312126]\n",
      "80 [ 0.11084923] [ 0.29420027]\n",
      "100 [ 0.10372793] [ 0.29800713]\n",
      "120 [ 0.10128096] [ 0.29931524]\n",
      "140 [ 0.10044014] [ 0.29976472]\n",
      "160 [ 0.10015125] [ 0.29991916]\n",
      "180 [ 0.10005196] [ 0.29997224]\n",
      "200 [ 0.10001787] [ 0.29999048]\n",
      "220 [ 0.10000613] [ 0.29999673]\n",
      "240 [ 0.10000211] [ 0.29999888]\n",
      "260 [ 0.10000072] [ 0.29999962]\n",
      "280 [ 0.10000024] [ 0.29999989]\n",
      "300 [ 0.10000015] [ 0.29999992]\n",
      "320 [ 0.10000015] [ 0.29999992]\n",
      "340 [ 0.10000015] [ 0.29999992]\n",
      "360 [ 0.10000015] [ 0.29999992]\n",
      "380 [ 0.10000015] [ 0.29999992]\n"
     ]
    }
   ],
   "source": [
    "##建立TensorFlow神经计算结构##\n",
    "weight=tf.Variable(tf.random_uniform([1],-1.0,1.0)) \n",
    "biases=tf.Variable(tf.zeros([1]))     \n",
    "y=weight*x_data+biases\n",
    "##-------##\n",
    "\n",
    "\n",
    "loss=tf.reduce_mean(tf.square(y-y_data))  #判断与正确值的差距\n",
    "optimizer=tf.train.GradientDescentOptimizer(0.5) #根据差距进行反向传播修正参数\n",
    "train=optimizer.minimize(loss) #建立训练器\n",
    "init=tf.initialize_all_variables() #初始化TensorFlow训练结构\n",
    "\n",
    "sess=tf.Session()  #建立TensorFlow训练会话\n",
    "sess = tf.Session(config=tf.ConfigProto(allow_soft_placement=True))\n",
    "sess.run(init)     #将训练结构装载到会话中\n",
    "for  step in range(400):#循环训练400次\n",
    "    sess.run(train)\n",
    "    #使用训练器根据训练结构进行训练\n",
    "    if  step%20==0:#每20次打印一次训练结果\n",
    "        print(step,sess.run(weight),sess.run(biases)) #训练次数，A值，B值\n",
    "                "
   ]
  },
  {
   "cell_type": "markdown",
   "metadata": {},
   "source": [
    "### 下面是Tensorflow实现二分类线性SVM"
   ]
  },
  {
   "cell_type": "code",
   "execution_count": 37,
   "metadata": {},
   "outputs": [
    {
     "name": "stdout",
     "output_type": "stream",
     "text": [
      "Step #100 W = [[ 0.09122755]\n",
      " [-0.10149377]\n",
      " [-0.25219569]\n",
      " [-0.02175193]]b = [[-0.08062753]]\n",
      "Loss = 0.666667\n",
      "Step #200 W = [[ 0.21241912]\n",
      " [ 0.26948005]\n",
      " [-0.64343339]\n",
      " [-0.20486347]]b = [[-0.00932754]]\n",
      "Loss = 1.0\n"
     ]
    },
    {
     "data": {
      "image/png": "[encoded data removed]",
      "text/plain": [
       "<matplotlib.figure.Figure at 0x14f3dda0>"
      ]
     },
     "metadata": {},
     "output_type": "display_data"
    }
   ],
   "source": [
    "import matplotlib.pyplot as plt\n",
    "import numpy as np\n",
    "import tensorflow as tf\n",
    "from sklearn import datasets\n",
    "from pylab import mpl\n",
    "mpl.rcParams['font.sans-serif'] = ['SimHei']  \n",
    "\n",
    "np.random.seed(1)\n",
    "tf.set_random_seed(1)\n",
    "\n",
    "sess=tf.Session()\n",
    "#产生数据\n",
    "iris=datasets.load_iris()\n",
    "x_vals=iris.data\n",
    "y_vals=np.array([1 if y==0 else -1 for y in iris.target])\n",
    "#划分数据为训练集和测试集\n",
    "train_indices = np.random.choice(len(x_vals),round(len(x_vals)*0.8), replace=False)\n",
    "test_indices = np.array(list(set(range(len(x_vals))) - set(train_indices)))\n",
    "x_vals_train = x_vals[train_indices]\n",
    "x_vals_test = x_vals[test_indices]\n",
    "y_vals_train = y_vals[train_indices]\n",
    "y_vals_test = y_vals[test_indices]\n",
    "#批训练中批的大小\n",
    "batch_size = 100\n",
    "x_data = tf.placeholder(shape=[None, 4], dtype=tf.float32)\n",
    "y_target = tf.placeholder(shape=[None, 1], dtype=tf.float32)\n",
    "W = tf.Variable(tf.random_normal(shape=[4,1]))\n",
    "b = tf.Variable(tf.random_normal(shape=[1,1]))\n",
    "#定义损失函数\n",
    "model_output=tf.matmul(x_data,W)+b\n",
    "l2_norm = tf.reduce_sum(tf.square(W))\n",
    "#软正则化参数\n",
    "alpha = tf.constant([0.1])\n",
    "#定义损失函数\n",
    "classification_term = tf.reduce_mean(tf.maximum(0.,1.-model_output*y_target))\n",
    "loss = classification_term+alpha*l2_norm\n",
    "#输出\n",
    "prediction = tf.sign(model_output)\n",
    "accuracy = tf.reduce_mean(tf.cast(tf.equal(prediction, y_target),tf.float32))\n",
    "train_step=tf.train.GradientDescentOptimizer(0.01).minimize(loss)\n",
    "#开始训练\n",
    "sess.run(tf.global_variables_initializer())\n",
    "loss_vec = []\n",
    "train_accuracy = []\n",
    "test_accuracy = []\n",
    "for i in range(200):\n",
    "    rand_index = np.random.choice(len(x_vals_train), size=batch_size)\n",
    "    rand_x = x_vals_train[rand_index]\n",
    "    rand_y = np.transpose([y_vals_train[rand_index]])\n",
    "    sess.run(train_step, feed_dict={x_data: rand_x, y_target:rand_y})\n",
    "    temp_loss = sess.run(loss, feed_dict={x_data: rand_x, y_target: rand_y})\n",
    "    loss_vec.append(temp_loss)\n",
    "    train_acc_temp = sess.run(accuracy, feed_dict={x_data: x_vals_train, y_target: np.transpose([y_vals_train])})\n",
    "    train_accuracy.append(train_acc_temp)\n",
    "    test_acc_temp = sess.run(accuracy, feed_dict={x_data: x_vals_test, y_target: np.transpose([y_vals_test])})\n",
    "    test_accuracy.append(test_acc_temp)\n",
    "    if (i+1)%100==0:\n",
    "        print('Step #' + str(i+1) + ' W = ' + str(sess.run(W)) + 'b = ' + str(sess.run(b)))\n",
    "        print('Loss = ' + str(test_acc_temp))\n",
    "plt.plot(loss_vec)\n",
    "plt.plot(train_accuracy)\n",
    "plt.plot(test_accuracy)\n",
    "plt.legend(['损失','训练精确度','测试精确度'])\n",
    "plt.ylim(0.,1.)\n",
    "plt.show()"
   ]
  },
  {
   "cell_type": "code",
   "execution_count": 38,
   "metadata": {},
   "outputs": [
    {
     "name": "stdout",
     "output_type": "stream",
     "text": [
      "Extracting /tmp/data/train-images-idx3-ubyte.gz\n",
      "Extracting /tmp/data/train-labels-idx1-ubyte.gz\n",
      "Extracting /tmp/data/t10k-images-idx3-ubyte.gz\n",
      "Extracting /tmp/data/t10k-labels-idx1-ubyte.gz\n",
      "Epoch: 0001 cost= 1.183603953\n",
      "Epoch: 0002 cost= 0.665320150\n",
      "Epoch: 0003 cost= 0.552879970\n",
      "Epoch: 0004 cost= 0.498686065\n",
      "Epoch: 0005 cost= 0.465506728\n",
      "Epoch: 0006 cost= 0.442582193\n",
      "Epoch: 0007 cost= 0.425532841\n",
      "Epoch: 0008 cost= 0.412185643\n",
      "Epoch: 0009 cost= 0.401376109\n",
      "Epoch: 0010 cost= 0.392403704\n",
      "Epoch: 0011 cost= 0.384801484\n",
      "Epoch: 0012 cost= 0.378155445\n",
      "Epoch: 0013 cost= 0.372365812\n",
      "Epoch: 0014 cost= 0.367300255\n",
      "Epoch: 0015 cost= 0.362733760\n",
      "Epoch: 0016 cost= 0.358632488\n",
      "Epoch: 0017 cost= 0.354889117\n",
      "Epoch: 0018 cost= 0.351455002\n",
      "Epoch: 0019 cost= 0.348329910\n",
      "Epoch: 0020 cost= 0.345406708\n",
      "Epoch: 0021 cost= 0.342780591\n",
      "Epoch: 0022 cost= 0.340274098\n",
      "Epoch: 0023 cost= 0.337908560\n",
      "Epoch: 0024 cost= 0.335717526\n",
      "Epoch: 0025 cost= 0.333682200\n",
      "Optimization Finished!\n",
      "Accuracy: 0.9136\n"
     ]
    }
   ],
   "source": [
    "from __future__ import print_function\n",
    "\n",
    "import tensorflow as tf\n",
    "\n",
    "# Import MNIST data\n",
    "from tensorflow.examples.tutorials.mnist import input_data\n",
    "mnist = input_data.read_data_sets(\"/tmp/data/\", one_hot=True)\n",
    "\n",
    "# Parameters\n",
    "learning_rate = 0.01\n",
    "training_epochs = 25\n",
    "batch_size = 100\n",
    "display_step = 1\n",
    "\n",
    "# tf Graph Input\n",
    "x = tf.placeholder(tf.float32, [None, 784]) # mnist data image of shape 28*28=784\n",
    "y = tf.placeholder(tf.float32, [None, 10]) # 0-9 digits recognition => 10 classes\n",
    "\n",
    "# Set model weights\n",
    "W = tf.Variable(tf.zeros([784, 10]))\n",
    "b = tf.Variable(tf.zeros([10]))\n",
    "\n",
    "# Construct model\n",
    "pred = tf.nn.softmax(tf.matmul(x, W) + b) # Softmax\n",
    "\n",
    "# Minimize error using cross entropy\n",
    "cost = tf.reduce_mean(-tf.reduce_sum(y*tf.log(pred), reduction_indices=1))\n",
    "# Gradient Descent\n",
    "optimizer = tf.train.GradientDescentOptimizer(learning_rate).minimize(cost)\n",
    "\n",
    "# Initialize the variables (i.e. assign their default value)\n",
    "init = tf.global_variables_initializer()\n",
    "\n",
    "# Start training\n",
    "with tf.Session() as sess:\n",
    "\n",
    "    # Run the initializer\n",
    "    sess.run(init)\n",
    "\n",
    "    # Training cycle\n",
    "    for epoch in range(training_epochs):\n",
    "        avg_cost = 0.\n",
    "        total_batch = int(mnist.train.num_examples/batch_size)\n",
    "        # Loop over all batches\n",
    "        for i in range(total_batch):\n",
    "            batch_xs, batch_ys = mnist.train.next_batch(batch_size)\n",
    "            # Run optimization op (backprop) and cost op (to get loss value)\n",
    "            _, c = sess.run([optimizer, cost], feed_dict={x: batch_xs,\n",
    "                                                          y: batch_ys})\n",
    "            # Compute average loss\n",
    "            avg_cost += c / total_batch\n",
    "        # Display logs per epoch step\n",
    "        if (epoch+1) % display_step == 0:\n",
    "            print(\"Epoch:\", '%04d' % (epoch+1), \"cost=\", \"{:.9f}\".format(avg_cost))\n",
    "\n",
    "    print(\"Optimization Finished!\")\n",
    "\n",
    "    # Test model\n",
    "    correct_prediction = tf.equal(tf.argmax(pred, 1), tf.argmax(y, 1))\n",
    "    # Calculate accuracy\n",
    "    accuracy = tf.reduce_mean(tf.cast(correct_prediction, tf.float32))\n",
    "    print(\"Accuracy:\", accuracy.eval({x: mnist.test.images, y: mnist.test.labels}))"
   ]
  },
  {
   "cell_type": "markdown",
   "metadata": {},
   "source": [
    "### tensorboard的使用"
   ]
  },
  {
   "cell_type": "code",
   "execution_count": 39,
   "metadata": {
    "collapsed": true
   },
   "outputs": [],
   "source": [
    "import tensorflow as tf\n",
    "\n",
    "with tf.name_scope('graph') as scope:\n",
    "    matrix1 = tf.constant([[3., 3.]],name ='matrix1')  #1 row by 2 column\n",
    "    matrix2 = tf.constant([[2.],[2.]],name ='matrix2') # 2 row by 1 column\n",
    "    product = tf.matmul(matrix1, matrix2,name='product')\n",
    "sess = tf.Session()\n",
    "\n",
    "writer = tf.summary.FileWriter(\"logs/\", sess.graph)\n",
    " \n",
    "init = tf.global_variables_initializer()\n",
    " \n",
    "sess.run(init)"
   ]
  },
  {
   "cell_type": "code",
   "execution_count": 42,
   "metadata": {},
   "outputs": [
    {
     "name": "stdout",
     "output_type": "stream",
     "text": [
      "0 weight: [ 0.00683668] bias: [ 0.34242237]\n",
      "10 weight: [ 0.14319283] bias: [ 0.18137506]\n",
      "20 weight: [ 0.22550656] bias: [ 0.13865833]\n",
      "30 weight: [ 0.26461086] bias: [ 0.11836518]\n",
      "40 weight: [ 0.2831879] bias: [ 0.10872464]\n",
      "50 weight: [ 0.29201317] bias: [ 0.10414477]\n",
      "60 weight: [ 0.29620576] bias: [ 0.10196901]\n",
      "70 weight: [ 0.29819751] bias: [ 0.10093541]\n",
      "80 weight: [ 0.2991437] bias: [ 0.10044438]\n",
      "90 weight: [ 0.29959324] bias: [ 0.1002111]\n",
      "100 weight: [ 0.29980677] bias: [ 0.10010029]\n"
     ]
    }
   ],
   "source": [
    "import tensorflow as tf\n",
    "import numpy as np\n",
    "\n",
    "## prepare the original data\n",
    "with tf.name_scope('data'):\n",
    "    x_data = np.random.rand(100).astype(np.float32)\n",
    "    y_data = 0.3*x_data+0.1\n",
    "##creat parameters\n",
    "with tf.name_scope('parameters'):\n",
    "    weight = tf.Variable(tf.random_uniform([1],-1.0,1.0))\n",
    "    bias = tf.Variable(tf.zeros([1]))\n",
    " ##get y_prediction\n",
    "with tf.name_scope('y_prediction'):\n",
    "    y_prediction = weight*x_data+bias\n",
    "##compute the loss\n",
    "with tf.name_scope('loss'):\n",
    "    loss = tf.reduce_mean(tf.square(y_data-y_prediction))\n",
    " ##creat optimizer\n",
    "optimizer = tf.train.GradientDescentOptimizer(0.5)\n",
    "#creat train ,minimize the loss \n",
    "with tf.name_scope('train'):\n",
    "    train = optimizer.minimize(loss)\n",
    "#creat init\n",
    "with tf.name_scope('init'): \n",
    "    init = tf.global_variables_initializer()\n",
    " ##creat a Session \n",
    "sess = tf.Session()\n",
    "##initialize\n",
    "writer = tf.summary.FileWriter(\"logs/\", sess.graph)\n",
    "sess.run(init)\n",
    "31 ## Loop\n",
    "for step  in  range(101):\n",
    "    sess.run(train)\n",
    "    if step %10==0 :\n",
    "        print (step ,'weight:',sess.run(weight),'bias:',sess.run(bias))"
   ]
  }
 ],
 "metadata": {
  "kernelspec": {
   "display_name": "Python 3",
   "language": "python",
   "name": "python3"
  },
  "language_info": {
   "codemirror_mode": {
    "name": "ipython",
    "version": 3
   },
   "file_extension": ".py",
   "mimetype": "text/x-python",
   "name": "python",
   "nbconvert_exporter": "python",
   "pygments_lexer": "ipython3",
   "version": "3.6.3"
  }
 },
 "nbformat": 4,
 "nbformat_minor": 2
}
