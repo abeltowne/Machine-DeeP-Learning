{
 "cells": [
  {
   "cell_type": "code",
   "execution_count": 2,
   "metadata": {},
   "outputs": [
    {
     "data": {
      "text/plain": [
       "array([[   6.   ,  148.   ,   72.   , ...,    0.   ,   33.6  ,    0.627],\n",
       "       [   1.   ,   85.   ,   66.   , ...,    0.   ,   26.6  ,    0.351],\n",
       "       [   8.   ,  183.   ,   64.   , ...,    0.   ,   23.3  ,    0.672],\n",
       "       ..., \n",
       "       [   5.   ,  121.   ,   72.   , ...,  112.   ,   26.2  ,    0.245],\n",
       "       [   1.   ,  126.   ,   60.   , ...,    0.   ,   30.1  ,    0.349],\n",
       "       [   1.   ,   93.   ,   70.   , ...,    0.   ,   30.4  ,    0.315]])"
      ]
     },
     "execution_count": 2,
     "metadata": {},
     "output_type": "execute_result"
    }
   ],
   "source": [
    "import numpy as np\n",
    "import urllib.request\n",
    "# url with dataset\n",
    "url = \"http://archive.ics.uci.edu/ml/machine-learning-databases/pima-indians-diabetes/pima-indians-diabetes.data\"\n",
    "# download the file\n",
    "raw_data = urllib.request.urlopen(url)\n",
    "# load the CSV file as a numpy matrix\n",
    "dataset = np.loadtxt(raw_data, delimiter=\",\")\n",
    "# separate the data from the target attributes\n",
    "X = dataset[:,0:7]\n",
    "y = dataset[:,8]\n",
    "X"
   ]
  },
  {
   "cell_type": "code",
   "execution_count": 3,
   "metadata": {
    "scrolled": true
   },
   "outputs": [
    {
     "name": "stdout",
     "output_type": "stream",
     "text": [
      "KNeighborsClassifier(algorithm='auto', leaf_size=30, metric='minkowski',\n",
      "           metric_params=None, n_jobs=1, n_neighbors=5, p=2,\n",
      "           weights='uniform')\n",
      "             precision    recall  f1-score   support\n",
      "\n",
      "        0.0       0.82      0.90      0.86       500\n",
      "        1.0       0.77      0.63      0.69       268\n",
      "\n",
      "avg / total       0.80      0.80      0.80       768\n",
      "\n",
      "[[448  52]\n",
      " [ 98 170]]\n"
     ]
    }
   ],
   "source": [
    "from sklearn import metrics\n",
    "from sklearn.neighbors import KNeighborsClassifier\n",
    "# fit a k-nearest neighbor model to the data\n",
    "model = KNeighborsClassifier()\n",
    "model.fit(X, y)\n",
    "print(model)\n",
    "# make predictions\n",
    "expected = y\n",
    "predicted = model.predict(X)\n",
    "# summarize the fit of the model\n",
    "print(metrics.classification_report(expected, predicted))\n",
    "print(metrics.confusion_matrix(expected, predicted))"
   ]
  },
  {
   "cell_type": "markdown",
   "metadata": {},
   "source": [
    "## KNN效果不错，下面来继续距离KNN实战"
   ]
  },
  {
   "cell_type": "code",
   "execution_count": 122,
   "metadata": {
    "collapsed": true
   },
   "outputs": [],
   "source": [
    "#确保数据格式符合要求\n",
    "#导入科学计算包（数组和矩阵）\n",
    "from numpy import *\n",
    "from os import listdir\n",
    "#导入运算符模块\n",
    "import operator\n",
    "\n",
    "#创建符合python格式的数据集\n",
    "def createDataSet():\n",
    "    #数据集 list(列表形式）   \n",
    "    group=array([[1.0,1.1],[1.0,1.0],[0,0],[0,0.1]])\n",
    "    #标签\n",
    "    labels=['A','A','B','B']\n",
    "    return group, labels"
   ]
  },
  {
   "cell_type": "markdown",
   "metadata": {},
   "source": [
    "### 对上面解释\n",
    "1.from os import listdir导入文件夹文件（http://www.runoob.com/python/os-listdir.html） 。\n",
    "2.import operator（http://blog.csdn.net/shengmingqijiquan/article/details/53005129）。"
   ]
  },
  {
   "cell_type": "code",
   "execution_count": 123,
   "metadata": {},
   "outputs": [
    {
     "data": {
      "text/plain": [
       "array([[ 1. ,  1.1],\n",
       "       [ 1. ,  1. ],\n",
       "       [ 0. ,  0. ],\n",
       "       [ 0. ,  0.1]])"
      ]
     },
     "execution_count": 123,
     "metadata": {},
     "output_type": "execute_result"
    }
   ],
   "source": [
    "group,labels = createDataSet()\n",
    "group"
   ]
  },
  {
   "cell_type": "markdown",
   "metadata": {},
   "source": [
    "### 这是一篇不错的KNN实战讲解 讲解很详细  简单易懂"
   ]
  },
  {
   "cell_type": "code",
   "execution_count": 127,
   "metadata": {
    "collapsed": true
   },
   "outputs": [],
   "source": [
    "def classify0(inX,dataSet,labels,k):\n",
    "    dataSetSize = dataSet.shape[0]\n",
    "    #tile 扩展矩阵的函数\n",
    "    diffMat = tile(inX,(dataSetSize,1))-dataSet\n",
    "    sqdiffMat = diffMat**2\n",
    "    sqDistances = sqdiffMat.sum(axis = 1)\n",
    "    distances = sqDistances**0.5\n",
    "    sortedDistIndicies = distances.argsort()\n",
    "    print(sortedDistIndicies)\n",
    "    classCount={}\n",
    "    for i in range(k):\n",
    "        voteLabels = labels[sortedDistIndicies[i]]\n",
    "        #dict.get  获取指定键的值，默认返回none，键值不存在时，不同于dict['key']直接返回error，也可以指定，下面指定为0\n",
    "        classCount[voteLabels] = classCount.get(voteLabels,0)+1\n",
    "    print(classCount)\n",
    "    #Python3.5中：iteritems变为items(python2   classCount.iteritems())\n",
    "    #items可以输出dict中的（key，value）\n",
    "    #sorted中的key参数传入函数，operator.itemgetterr函数获取的不是值，而是定义了一个函数，通过该函数作用到对象上才能获取值。\n",
    "    #operator.itemgetter(1) 为获取classCount.items()中的第二个参数\n",
    "    sortedClassCount = sorted(classCount.items(),key = operator.itemgetter(1),reverse = True)\n",
    "    print(sortedClassCount)\n",
    "    return sortedClassCount[0][0]"
   ]
  },
  {
   "cell_type": "code",
   "execution_count": 143,
   "metadata": {},
   "outputs": [
    {
     "name": "stdout",
     "output_type": "stream",
     "text": [
      "[3 2 1 0]\n",
      "{'B': 2}\n",
      "[('B', 2)]\n"
     ]
    },
    {
     "data": {
      "text/plain": [
       "'B'"
      ]
     },
     "execution_count": 143,
     "metadata": {},
     "output_type": "execute_result"
    }
   ],
   "source": [
    "classify0([0,0.2],group,labels,2)"
   ]
  },
  {
   "cell_type": "markdown",
   "metadata": {},
   "source": [
    "### 深度解读一下上面这段代码"
   ]
  },
  {
   "cell_type": "code",
   "execution_count": 26,
   "metadata": {},
   "outputs": [
    {
     "data": {
      "text/plain": [
       "array([7, 2, 0, 8, 1, 3, 4, 5, 6], dtype=int64)"
      ]
     },
     "execution_count": 26,
     "metadata": {},
     "output_type": "execute_result"
    }
   ],
   "source": [
    "#argsort()函数是将x中的元素从小到大排列，提取其对应的index(索引)，然后输出到y。\n",
    "#输出是按照从小到大的顺序输出的\n",
    "import numpy as np\n",
    "a=np.array([2,3,1,4,5,6,7,0,2])\n",
    "a.argsort()"
   ]
  },
  {
   "cell_type": "code",
   "execution_count": 39,
   "metadata": {},
   "outputs": [
    {
     "data": {
      "text/plain": [
       "'abeltowne'"
      ]
     },
     "execution_count": 39,
     "metadata": {},
     "output_type": "execute_result"
    }
   ],
   "source": [
    "#dict.get vs dict[‘key’]\n",
    "a={'name':'abeltowne'}\n",
    "a['name']"
   ]
  },
  {
   "cell_type": "code",
   "execution_count": 40,
   "metadata": {},
   "outputs": [
    {
     "data": {
      "text/plain": [
       "[1, 1, 2, 3, 4, 5]"
      ]
     },
     "execution_count": 40,
     "metadata": {},
     "output_type": "execute_result"
    }
   ],
   "source": [
    "#Python中sort 和 sorted函数\n",
    "#用sort函数对列表排序时会影响列表本身，而sorted不会\n",
    "a = [1,2,1,4,3,5]\n",
    "a.sort()\n",
    "a"
   ]
  },
  {
   "cell_type": "code",
   "execution_count": 45,
   "metadata": {
    "scrolled": true
   },
   "outputs": [
    {
     "data": {
      "text/plain": [
       "[1, 2, 1, 4, 3, 5]"
      ]
     },
     "execution_count": 45,
     "metadata": {},
     "output_type": "execute_result"
    }
   ],
   "source": [
    "a = [1,2,1,4,3,5]\n",
    "b =sorted(a)\n",
    "a"
   ]
  },
  {
   "cell_type": "code",
   "execution_count": 53,
   "metadata": {},
   "outputs": [
    {
     "data": {
      "text/plain": [
       "[('david', 90), ('lily', 95), ('mary', 90), ('sara', 80)]"
      ]
     },
     "execution_count": 53,
     "metadata": {},
     "output_type": "execute_result"
    }
   ],
   "source": [
    "list1 = [('david', 90), ('mary',90), ('sara',80),('lily',95)]\n",
    "sorted(list1,key = lambda list1:list1[0])"
   ]
  },
  {
   "cell_type": "code",
   "execution_count": 55,
   "metadata": {},
   "outputs": [
    {
     "data": {
      "text/plain": [
       "[('sara', 80), ('david', 90), ('mary', 90), ('lily', 95)]"
      ]
     },
     "execution_count": 55,
     "metadata": {},
     "output_type": "execute_result"
    }
   ],
   "source": [
    "# list1[0],list1[1]标示第一第二个元素\n",
    "list1 = [('david', 90), ('mary',90), ('sara',80),('lily',95)]\n",
    "sorted(list1,key = lambda list1:list1[1])"
   ]
  },
  {
   "cell_type": "code",
   "execution_count": 60,
   "metadata": {},
   "outputs": [
    {
     "data": {
      "text/plain": [
       "array([[1, 2, 1, 2, 1, 2],\n",
       "       [1, 2, 1, 2, 1, 2]])"
      ]
     },
     "execution_count": 60,
     "metadata": {},
     "output_type": "execute_result"
    }
   ],
   "source": [
    "#python tile函数(https://www.cnblogs.com/zibu1234/p/4210521.html) 即重复A B次\n",
    "np.tile([1,2],(2,3))"
   ]
  },
  {
   "cell_type": "code",
   "execution_count": 68,
   "metadata": {},
   "outputs": [
    {
     "data": {
      "text/plain": [
       "array([[ 1.  ,  0.64],\n",
       "       [ 1.  ,  0.49],\n",
       "       [ 0.  ,  0.09],\n",
       "       [ 0.  ,  0.04]])"
      ]
     },
     "execution_count": 68,
     "metadata": {},
     "output_type": "execute_result"
    }
   ],
   "source": [
    "diffM = tile([0,0.3],(4,1))-group\n",
    "diffM**2\n",
    "#**2标示 每个元素自乘2 即平方"
   ]
  },
  {
   "cell_type": "code",
   "execution_count": 87,
   "metadata": {},
   "outputs": [
    {
     "name": "stdout",
     "output_type": "stream",
     "text": [
      "0\n",
      "1\n",
      "2\n",
      "3\n",
      "4\n"
     ]
    }
   ],
   "source": [
    "#python 中的循环\n",
    "k=5\n",
    "for i in range(k):\n",
    "    print(i)\n",
    "#输出的是0到k-1"
   ]
  },
  {
   "cell_type": "code",
   "execution_count": 166,
   "metadata": {},
   "outputs": [
    {
     "data": {
      "text/plain": [
       "[['c', 5], ['b', 4], ['a', 1]]"
      ]
     },
     "execution_count": 166,
     "metadata": {},
     "output_type": "execute_result"
    }
   ],
   "source": [
    "##operator.itemgetter()\n",
    "a = [['a',1],['b',4],['c',5]]\n",
    "sorted(a,key = operator.itemgetter(0),reverse = True)\n"
   ]
  }
 ],
 "metadata": {
  "kernelspec": {
   "display_name": "Python 3",
   "language": "python",
   "name": "python3"
  },
  "language_info": {
   "codemirror_mode": {
    "name": "ipython",
    "version": 3
   },
   "file_extension": ".py",
   "mimetype": "text/x-python",
   "name": "python",
   "nbconvert_exporter": "python",
   "pygments_lexer": "ipython3",
   "version": "3.6.3"
  }
 },
 "nbformat": 4,
 "nbformat_minor": 2
}
