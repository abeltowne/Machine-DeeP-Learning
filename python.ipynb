{
 "cells": [
  {
   "cell_type": "markdown",
   "metadata": {},
   "source": [
    "## 加载数据 跑模型 然后切换路劲保存模型"
   ]
  },
  {
   "cell_type": "code",
   "execution_count": 3,
   "metadata": {},
   "outputs": [
    {
     "data": {
      "text/plain": [
       "['train_model.m']"
      ]
     },
     "execution_count": 3,
     "metadata": {},
     "output_type": "execute_result"
    }
   ],
   "source": [
    "import os,sys\n",
    "from sklearn.linear_model import LogisticRegression\n",
    "import pandas as  pd\n",
    "from sklearn.cross_validation import train_test_split\n",
    "from sklearn.externals import joblib\n",
    "##改变保存路劲\n",
    "ttt =pd.read_csv(\"C:\\\\Users\\\\Administrator\\\\Desktop\\\\testingData\\\\testing.csv\",encoding='gbk')\n",
    "ttt=ttt[['count_jiedai','AVG(DIALED)','y']]\n",
    "ttt = ttt.dropna(axis = 0,how='any')\n",
    "clf = LogisticRegression()\n",
    "x_train,x_test,y_train,y_test=train_test_split(ttt.drop([\"y\"],axis=1),ttt[\"y\"],test_size=0.3) \n",
    "clf.fit(x_train,y_train)\n",
    "os.chdir(\"C:\\\\Users\\\\Administrator\\\\Desktop\\\\reading\")\n",
    "joblib.dump(clf, \"train_model.m\")"
   ]
  },
  {
   "cell_type": "markdown",
   "metadata": {},
   "source": [
    "## 加载原来的模型"
   ]
  },
  {
   "cell_type": "code",
   "execution_count": 10,
   "metadata": {},
   "outputs": [
    {
     "name": "stdout",
     "output_type": "stream",
     "text": [
      "        count_jiedai   AVG(DIALED)\n",
      "75492              2   7163.625000\n",
      "3282               3  14474.142860\n",
      "104042             1  20857.400000\n",
      "78944              3   7516.625000\n",
      "142876             2  36032.625000\n",
      "154896             3  12784.222220\n",
      "38913              1  14448.000000\n",
      "83553              2   7878.250000\n",
      "122180             1  11522.875000\n",
      "141594             2   6724.125000\n",
      "68805              1  31983.600000\n",
      "23473              2  30729.500000\n",
      "155407             2   8377.250000\n",
      "162217             2  19237.500000\n",
      "76295              1   6813.000000\n",
      "60861              2   2888.125000\n",
      "32218              2   5431.571429\n",
      "97903              4  10346.500000\n",
      "34391              1  12661.800000\n",
      "20997              1  32128.200000\n",
      "98744              3   7939.888889\n",
      "161506             2  11566.375000\n",
      "160406             1  13861.200000\n",
      "15040              2  10436.625000\n",
      "12251              1  13025.200000\n",
      "19862              3   9283.250000\n",
      "93932              2  13740.250000\n",
      "124842             3  27534.142860\n",
      "116545             3  26971.333330\n",
      "47559              1   2147.875000\n",
      "...              ...           ...\n",
      "14349              2  23895.916670\n",
      "39540              2   4558.555556\n",
      "126764             2  11774.555560\n",
      "71917              1   4213.500000\n",
      "56775              1  25659.600000\n",
      "124481             1  14251.500000\n",
      "103686             2   7883.600000\n",
      "135220             2  18351.375000\n",
      "120685             1   5783.800000\n",
      "115117             1  20974.428570\n",
      "92619              2  21192.200000\n",
      "66507              1  19915.400000\n",
      "32347              2  26121.750000\n",
      "32756              1   6625.000000\n",
      "118565             1   4458.600000\n",
      "72174              2  18951.142860\n",
      "70750              1   3148.600000\n",
      "126628             1   5390.125000\n",
      "133343             1   2161.333333\n",
      "123576             1  19536.571430\n",
      "92006              1   6990.600000\n",
      "34547              2   7834.090909\n",
      "42462              3  12546.857140\n",
      "82381              1   9286.923077\n",
      "31770              2   5516.000000\n",
      "32615              2  35456.500000\n",
      "99791              1  16830.875000\n",
      "37472              3  37823.625000\n",
      "22968              2  17846.000000\n",
      "102085             2  14587.400000\n",
      "\n",
      "[49016 rows x 2 columns]\n"
     ]
    },
    {
     "data": {
      "text/plain": [
       "array([[ 0.84672113,  0.15327887],\n",
       "       [ 0.90253652,  0.09746348],\n",
       "       [ 0.77333217,  0.22666783],\n",
       "       ..., \n",
       "       [ 0.90588021,  0.09411979],\n",
       "       [ 0.84899947,  0.15100053],\n",
       "       [ 0.84830744,  0.15169256]])"
      ]
     },
     "execution_count": 10,
     "metadata": {},
     "output_type": "execute_result"
    }
   ],
   "source": [
    "os.chdir(\"C:\\\\Users\\\\Administrator\\\\Desktop\\\\testingData\")\n",
    "os.chdir(\"C:\\\\Users\\\\Administrator\\\\Desktop\\\\reading\")\n",
    "aaa = joblib.load(\"train_model.m\")\n",
    "print(x_test)\n",
    "aaa.predict_proba(x_test)"
   ]
  }
 ],
 "metadata": {
  "kernelspec": {
   "display_name": "Python 3",
   "language": "python",
   "name": "python3"
  },
  "language_info": {
   "codemirror_mode": {
    "name": "ipython",
    "version": 3
   },
   "file_extension": ".py",
   "mimetype": "text/x-python",
   "name": "python",
   "nbconvert_exporter": "python",
   "pygments_lexer": "ipython3",
   "version": "3.6.3"
  }
 },
 "nbformat": 4,
 "nbformat_minor": 2
}
