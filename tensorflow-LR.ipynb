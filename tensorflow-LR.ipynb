{
 "cells": [
  {
   "cell_type": "markdown",
   "metadata": {},
   "source": [
    "###  下面这个是单词的前馈神经网络"
   ]
  },
  {
   "cell_type": "code",
   "execution_count": 5,
   "metadata": {
    "scrolled": true
   },
   "outputs": [
    {
     "name": "stdout",
     "output_type": "stream",
     "text": [
      "train_cost is: 1.07078e-06\n",
      "train_cost is: 1.07194e-06\n",
      "train_cost is: 1.06673e-06\n",
      "train_cost is: 1.06216e-06\n",
      "train_cost is: 1.05844e-06\n",
      "train_cost is: 1.05539e-06\n",
      "train_cost is: 1.05286e-06\n",
      "train_cost is: 1.05074e-06\n",
      "train_cost is: 1.04894e-06\n",
      "train_cost is: 1.0474e-06\n",
      "train_cost is: 1.04608e-06\n",
      "train_cost is: 1.04493e-06\n",
      "train_cost is: 1.04392e-06\n",
      "train_cost is: 1.04304e-06\n"
     ]
    },
    {
     "data": {
      "image/png": "[encoded data removed]",
      "text/plain": [
       "<matplotlib.figure.Figure at 0x100bccc0>"
      ]
     },
     "metadata": {},
     "output_type": "display_data"
    }
   ],
   "source": [
    "import tensorflow as tf\n",
    "import numpy as np\n",
    "import matplotlib.pyplot as plt\n",
    "import pandas as pd\n",
    "inputTensor=pd.read_csv(\"F:\\\\Machine+Deep Learning\\\\tensorInput.csv\",sep=\",\",encoding=\"gbk\")\n",
    "#创建占位符\n",
    "X=tf.placeholder(tf.float32)\n",
    "Y=tf.placeholder(tf.float32)\n",
    "#创建变量\n",
    "#tf.random_normal([1])返回一个符合正太分布的随机数\n",
    "w=tf.Variable(tf.random_normal([1,23],name='weight'))\n",
    "b=tf.Variable(tf.random_normal([1,1],name='bias'))\n",
    "y_predict=tf.sigmoid(tf.add(tf.multiply(X,w),b))\n",
    "num_samples=len(inputTensor)\n",
    "cost=tf.reduce_sum(tf.pow(y_predict-Y,2.0))/num_samples\n",
    "#学习率\n",
    "lr=0.01\n",
    "optimizer=tf.train.AdamOptimizer().minimize(cost)\n",
    "#创建session 并初始化所有变量\n",
    "num_epoch=50\n",
    "cost_accum=[]\n",
    "cost_prev=0\n",
    "#np.linspace（）创建agiel等差数组，元素个素为num_samples 产生数据源用来训练用\n",
    "xs=inputTensor.drop([\"y\"],axis=1).as_matrix(columns=None)\n",
    "ys=inputTensor[\"y\"].as_matrix(columns=None)\n",
    "with tf.Session() as sess:\n",
    "    #初始化所有变量\n",
    "    sess.run(tf.initialize_all_variables())\n",
    "    #开始训练\n",
    "    for epoch in range(num_epoch):\n",
    "        for x,y in zip(xs,ys):\n",
    "            sess.run(optimizer,feed_dict={X:x,Y:y})\n",
    "        train_cost=sess.run(cost,feed_dict={X:x,Y:y})\n",
    "        cost_accum.append(train_cost)\n",
    "        print (\"train_cost is:\",str(train_cost))\n",
    "        #当误差小于10-8时 终止训练\n",
    "        if np.abs(cost_prev-train_cost)<1e-9:  \n",
    "            break\n",
    "        #保存最终的误差\n",
    "        cost_prev=train_cost\n",
    "#画图  画出每一轮训练所有样本之后的误差\n",
    "plt.plot(range(len(cost_accum)),cost_accum,'r')\n",
    "plt.title('Logic Regression Cost Curve')\n",
    "plt.xlabel('epoch')\n",
    "plt.ylabel('cost')\n",
    "plt.show()"
   ]
  },
  {
   "cell_type": "markdown",
   "metadata": {},
   "source": [
    "### 第二个例子  "
   ]
  },
  {
   "cell_type": "code",
   "execution_count": 6,
   "metadata": {},
   "outputs": [
    {
     "name": "stdout",
     "output_type": "stream",
     "text": [
      "Successfully downloaded train-images-idx3-ubyte.gz 9912422 bytes.\n",
      "Extracting data/train-images-idx3-ubyte.gz\n",
      "Successfully downloaded train-labels-idx1-ubyte.gz 28881 bytes.\n",
      "Extracting data/train-labels-idx1-ubyte.gz\n",
      "Successfully downloaded t10k-images-idx3-ubyte.gz 1648877 bytes.\n",
      "Extracting data/t10k-images-idx3-ubyte.gz\n",
      "Successfully downloaded t10k-labels-idx1-ubyte.gz 4542 bytes.\n",
      "Extracting data/t10k-labels-idx1-ubyte.gz\n",
      "WARNING:tensorflow:From <ipython-input-6-c3e7b84f1b50>:20: arg_max (from tensorflow.python.ops.gen_math_ops) is deprecated and will be removed in a future version.\n",
      "Instructions for updating:\n",
      "Use `argmax` instead\n",
      "Epoch:005/050 cost:0.463751020 train_acc:0.950 test_acc:0.891\n",
      "Epoch:010/050 cost:0.390945452 train_acc:0.920 test_acc:0.903\n",
      "Epoch:015/050 cost:0.361407535 train_acc:0.950 test_acc:0.908\n",
      "Epoch:020/050 cost:0.344111125 train_acc:0.940 test_acc:0.911\n",
      "Epoch:025/050 cost:0.332395335 train_acc:0.810 test_acc:0.914\n",
      "Epoch:030/050 cost:0.323807536 train_acc:0.850 test_acc:0.915\n",
      "Epoch:035/050 cost:0.317134497 train_acc:0.910 test_acc:0.916\n",
      "Epoch:040/050 cost:0.311702925 train_acc:0.880 test_acc:0.918\n",
      "Epoch:045/050 cost:0.307185597 train_acc:0.880 test_acc:0.918\n",
      "Epoch:050/050 cost:0.303353986 train_acc:0.910 test_acc:0.919\n"
     ]
    }
   ],
   "source": [
    "import tensorflow as tf\n",
    "##import input_data\n",
    "from tensorflow.examples.tutorials.mnist import  input_data\n",
    "\n",
    "##下载导入mnist数据集 如果出现连接问题 请连vpn\n",
    "mnist = input_data.read_data_sets('data/', one_hot=True)\n",
    "\n",
    "##part1  初始化参数\n",
    "x = tf.placeholder('float', [None, 784])\n",
    "y = tf.placeholder('float', [None, 10])\n",
    "W = tf.Variable(tf.zeros([784, 10]))\n",
    "b = tf.Variable(tf.zeros([10]))\n",
    "\n",
    "##part2 定义函数\n",
    "actv = tf.nn.softmax(tf.matmul(x, W) + b)\n",
    "cost = tf.reduce_mean(-tf.reduce_sum(y * tf.log(actv), reduction_indices=1))\n",
    "learning_rate = 0.01\n",
    "optm = tf.train.GradientDescentOptimizer(learning_rate).minimize(cost)\n",
    "\n",
    "pred = tf.equal(tf.arg_max(actv, 1), tf.arg_max(y, 1))\n",
    "accr=tf.reduce_mean(tf.cast(pred,'float'))\n",
    "\n",
    "##part3 迭代运算\n",
    "training_epochs=50\n",
    "batch_size=100\n",
    "display_step=5\n",
    "\n",
    "sess=tf.Session()\n",
    "init=tf.global_variables_initializer()\n",
    "sess.run(init)\n",
    "\n",
    "for  epoch in range(1,(training_epochs+1)): ##[1~50]\n",
    "    avg_cost=0\n",
    "    num_batch=int(mnist.train.num_examples/batch_size)\n",
    "    for i  in range(num_batch):\n",
    "        batch_xs,batch_ys=mnist.train.next_batch(batch_size)\n",
    "        feeds = {x: batch_xs, y: batch_ys}\n",
    "        sess.run(optm,feed_dict=feeds)\n",
    "        avg_cost+=sess.run(cost,feed_dict=feeds)/num_batch\n",
    "    if epoch%display_step==0:\n",
    "        ##feeds_train={x:batch_xs,y:batch_ys}\n",
    "        feeds_test = {x: mnist.test.images, y: mnist.test.labels}\n",
    "        train_acc=sess.run(accr,feed_dict=feeds)\n",
    "        test_acc=sess.run(accr,feed_dict=feeds_test)\n",
    "        print(\"Epoch:%03d/%03d cost:%.9f train_acc:%.3f test_acc:%.3f\"%(epoch,training_epochs,avg_cost,train_acc,test_acc))\n"
   ]
  },
  {
   "cell_type": "markdown",
   "metadata": {},
   "source": [
    "### 第三个例子"
   ]
  },
  {
   "cell_type": "markdown",
   "metadata": {},
   "source": [
    "### tensorflow二分类问题"
   ]
  },
  {
   "cell_type": "code",
   "execution_count": 42,
   "metadata": {
    "scrolled": true
   },
   "outputs": [
    {
     "data": {
      "text/plain": [
       "array([0, 0, 0, ..., 0, 0, 0], dtype=int64)"
      ]
     },
     "execution_count": 42,
     "metadata": {},
     "output_type": "execute_result"
    }
   ],
   "source": [
    "inputTensor\n",
    "train_X = (inputTensor.drop([\"y\"],axis=1).as_matrix(columns=None))\n",
    "train_y = (inputTensor[\"y\"].as_matrix(columns=None))\n",
    "train_y\n",
    "#此时这边打的数据以及被转置了！！！！！！！！！！！！"
   ]
  },
  {
   "cell_type": "code",
   "execution_count": 19,
   "metadata": {
    "collapsed": true
   },
   "outputs": [],
   "source": [
    "####定义一个关于Y的hot编码\n",
    "def to_categorical(y, num_classes=None):\n",
    "    y = np.array(y, dtype='int').ravel()\n",
    "    if not num_classes:\n",
    "        num_classes = np.max(y) + 1\n",
    "    n = y.shape[0]  \n",
    "    categorical = np.zeros((n, num_classes))  \n",
    "    categorical[np.arange(n), y] = 1  \n",
    "    return categorical  "
   ]
  },
  {
   "cell_type": "code",
   "execution_count": 20,
   "metadata": {},
   "outputs": [
    {
     "data": {
      "text/plain": [
       "array([[ 1.,  0.],\n",
       "       [ 1.,  0.],\n",
       "       [ 1.,  0.],\n",
       "       ..., \n",
       "       [ 1.,  0.],\n",
       "       [ 1.,  0.],\n",
       "       [ 1.,  0.]])"
      ]
     },
     "execution_count": 20,
     "metadata": {},
     "output_type": "execute_result"
    }
   ],
   "source": [
    "to_categorical(train_y, num_classes=None)"
   ]
  },
  {
   "cell_type": "code",
   "execution_count": 30,
   "metadata": {},
   "outputs": [],
   "source": [
    "def next_batch(num, data):  \n",
    "    idx = np.arange(0, len(data))  # get all possible indexes  \n",
    "    np.random.shuffle(idx)  # shuffle indexes  \n",
    "    idx = idx[0:num]  # use only `num` random indexes  \n",
    "    print(idx)  \n",
    "    data_shuffle = [data[i] for i in idx]  # get list of `num` random samples  \n",
    "    data_shuffle = np.asarray(data_shuffle)  # get back numpy array  \n",
    "    return data_shuffle "
   ]
  },
  {
   "cell_type": "code",
   "execution_count": 46,
   "metadata": {},
   "outputs": [
    {
     "name": "stdout",
     "output_type": "stream",
     "text": [
      "[124519  52972  81556 130682 153672  95817  22676  20717 132009  43395]\n"
     ]
    },
    {
     "data": {
      "text/plain": [
       "array([[  5.00000000e-01,   5.17241380e-02,   3.33333333e-01,\n",
       "          0.00000000e+00,   1.99430200e-02,   1.90037430e-02,\n",
       "          1.43472000e-03,   9.42900000e-01,   4.16666700e-03,\n",
       "          6.59945000e-03,   1.93452381e-01,   9.18043700e-02,\n",
       "          6.21325200e-02,   2.12868325e-01,   1.01651187e-01,\n",
       "          3.49860630e-02,   4.08868030e-02,   9.88448300e-03,\n",
       "          2.24325840e-02,   6.08695652e-01,   1.49483100e-03,\n",
       "          8.38709677e-01,   8.33333333e-01],\n",
       "       [  3.33333333e-01,   2.15517240e-02,   1.66666667e-01,\n",
       "          1.66666667e-01,   2.88461540e-02,   2.80017280e-02,\n",
       "          1.43472000e-03,   9.60500000e-01,   0.00000000e+00,\n",
       "          0.00000000e+00,   1.45833333e-01,   5.03710400e-03,\n",
       "          4.07012400e-03,   1.88072890e-02,   4.82456140e-02,\n",
       "          2.01861240e-02,   2.07917500e-02,   2.80907800e-03,\n",
       "          6.86234000e-04,   4.78260870e-01,   7.69339100e-03,\n",
       "          7.09677419e-01,   6.94444444e-01],\n",
       "       [  2.50000000e-01,   5.17241380e-02,   1.66666667e-01,\n",
       "          0.00000000e+00,   6.05413100e-03,   5.83069400e-03,\n",
       "          3.58680000e-04,   9.52900000e-01,   0.00000000e+00,\n",
       "          0.00000000e+00,   1.99404762e-01,   1.55596170e-02,\n",
       "          2.56114180e-02,   6.61930330e-02,   5.59855520e-02,\n",
       "          1.72581650e-02,   2.96365950e-02,   3.13100800e-03,\n",
       "          1.55044150e-02,   4.78260870e-01,   2.78867500e-03,\n",
       "          5.48387097e-01,   5.27777778e-01],\n",
       "       [  1.94444444e-01,   2.58620690e-02,   0.00000000e+00,\n",
       "          1.66666667e-01,   1.73076920e-02,   1.73481140e-02,\n",
       "          1.79340000e-04,   9.91800000e-01,   0.00000000e+00,\n",
       "          0.00000000e+00,   5.65476190e-02,   2.67016350e-02,\n",
       "          1.36866230e-02,   7.91997970e-02,   2.65737870e-02,\n",
       "          2.64690030e-02,   3.84651190e-02,   9.20294500e-03,\n",
       "          9.48134200e-03,   6.08695652e-01,   4.78076900e-03,\n",
       "          5.48387097e-01,   5.27777778e-01],\n",
       "       [  6.66666667e-01,   4.14291700e-02,   0.00000000e+00,\n",
       "          0.00000000e+00,   3.00569800e-02,   2.90095020e-02,\n",
       "          1.70373000e-03,   9.55000000e-01,   4.16666700e-03,\n",
       "          4.39963300e-03,   1.27976190e-01,   4.42710980e-02,\n",
       "          4.79870710e-02,   1.79899216e-01,   8.59133130e-02,\n",
       "          1.82563330e-02,   2.68742410e-02,   8.57173300e-03,\n",
       "          6.46554730e-02,   6.08695652e-01,   2.68705700e-03,\n",
       "          4.83870968e-01,   4.72222222e-01],\n",
       "       [  2.77777778e-01,   6.03448280e-02,   1.66666667e-01,\n",
       "          0.00000000e+00,   2.16524220e-02,   2.04434210e-02,\n",
       "          1.79340000e-03,   9.34200000e-01,   0.00000000e+00,\n",
       "          0.00000000e+00,   1.87500000e-01,   1.61628910e-02,\n",
       "          1.23954170e-02,   5.05821400e-02,   1.90918470e-02,\n",
       "          2.48702380e-02,   3.79541710e-02,   1.63769290e-02,\n",
       "          2.81826200e-03,   6.08695652e-01,   1.40430530e-02,\n",
       "          5.80645161e-01,   5.55555556e-01],\n",
       "       [  2.22222222e-01,   3.01724140e-02,   0.00000000e+00,\n",
       "          0.00000000e+00,   7.47863200e-03,   7.27037100e-03,\n",
       "          3.58680000e-04,   9.61900000e-01,   0.00000000e+00,\n",
       "          0.00000000e+00,   9.82142860e-02,   3.10629800e-03,\n",
       "          9.73295100e-03,   1.52033460e-02,   3.86996900e-02,\n",
       "          1.44941700e-02,   1.80911360e-02,   8.80023900e-03,\n",
       "          3.84331350e-02,   4.34782609e-01,   3.89203310e-02,\n",
       "          3.22580650e-02,   2.77777780e-02],\n",
       "       [  4.16666667e-01,   5.60344830e-02,   5.00000000e-01,\n",
       "          0.00000000e+00,   1.86609690e-02,   1.82119210e-02,\n",
       "          8.07030000e-04,   9.65600000e-01,   0.00000000e+00,\n",
       "          0.00000000e+00,   1.13095238e-01,   2.01713270e-02,\n",
       "          4.53949940e-02,   7.26810080e-02,   1.02167183e-01,\n",
       "          2.10895780e-02,   3.46449700e-02,   5.53767300e-03,\n",
       "          6.29326400e-03,   8.69565217e-01,   3.80647100e-03,\n",
       "          3.87096774e-01,   3.61111111e-01],\n",
       "       [  3.61111111e-01,   4.14291700e-02,   0.00000000e+00,\n",
       "          0.00000000e+00,   1.53846150e-02,   1.50446300e-02,\n",
       "          6.27690000e-04,   9.67600000e-01,   0.00000000e+00,\n",
       "          0.00000000e+00,   1.19047619e-01,   4.06777710e-02,\n",
       "          4.91286000e-02,   8.73762540e-02,   2.73477810e-02,\n",
       "          3.80586620e-02,   5.55269940e-02,   6.75018300e-03,\n",
       "          1.07820750e-02,   8.26086957e-01,   2.30280600e-03,\n",
       "          5.48387097e-01,   5.27777778e-01],\n",
       "       [  1.94444444e-01,   3.87931030e-02,   0.00000000e+00,\n",
       "          1.66666667e-01,   1.14672360e-02,   1.15894040e-02,\n",
       "          0.00000000e+00,   1.00000000e+00,   0.00000000e+00,\n",
       "          0.00000000e+00,   1.27976190e-01,   8.86782540e-02,\n",
       "          3.76107690e-02,   1.77854152e-01,   5.98555210e-02,\n",
       "          4.10647060e-02,   3.56327180e-02,   1.56910680e-02,\n",
       "          3.15035000e-03,   9.56521739e-01,   2.45658100e-03,\n",
       "          9.67741940e-02,   4.44444444e-01]])"
      ]
     },
     "execution_count": 46,
     "metadata": {},
     "output_type": "execute_result"
    }
   ],
   "source": [
    "next_batch(10,train_X)"
   ]
  },
  {
   "cell_type": "code",
   "execution_count": 47,
   "metadata": {},
   "outputs": [],
   "source": [
    "# 建立模型初始化\n",
    "x = tf.placeholder(\"float\", shape=[None, 2])\n",
    "y_ = tf.placeholder(\"float\", shape=[None, 2])\n",
    "W = tf.Variable(tf.zeros([2, 2]))\n",
    "b = tf.Variable(tf.zeros([2]))\n",
    "\n",
    "import tensorflow as tf\n",
    "sess = tf.InteractiveSession()  \n",
    "sess.run(tf.global_variables_initializer()) "
   ]
  }
 ],
 "metadata": {
  "kernelspec": {
   "display_name": "Python 3",
   "language": "python",
   "name": "python3"
  },
  "language_info": {
   "codemirror_mode": {
    "name": "ipython",
    "version": 3
   },
   "file_extension": ".py",
   "mimetype": "text/x-python",
   "name": "python",
   "nbconvert_exporter": "python",
   "pygments_lexer": "ipython3",
   "version": "3.6.3"
  }
 },
 "nbformat": 4,
 "nbformat_minor": 2
}
