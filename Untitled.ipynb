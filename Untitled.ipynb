{
 "cells": [
  {
   "cell_type": "code",
   "execution_count": 8,
   "metadata": {},
   "outputs": [],
   "source": [
    "import numpy as np\n",
    "import pandas as pd\n",
    "tensprIn=pd.read_csv(\"F:\\\\Machine+Deep Learning\\\\tensorInput.csv\",sep=\",\",encoding=\"gbk\")"
   ]
  },
  {
   "cell_type": "code",
   "execution_count": 12,
   "metadata": {
    "scrolled": true
   },
   "outputs": [
    {
     "data": {
      "text/plain": [
       "array([[ 27.,   0.,   1., ...,   0.,  15.,  17.],\n",
       "       [ 29.,   0.,   0., ...,   0.,  15.,  17.],\n",
       "       [ 38.,   0.,   0., ...,   0.,  12.,  13.],\n",
       "       ..., \n",
       "       [ 36.,   0.,   1., ...,   0.,  17.,  19.],\n",
       "       [ 33.,   1.,   1., ...,   0.,  27.,  31.],\n",
       "       [ 42.,   0.,   1., ...,   0.,  24.,  28.]])"
      ]
     },
     "execution_count": 12,
     "metadata": {},
     "output_type": "execute_result"
    }
   ],
   "source": [
    "tensorNumpyIn = tensprIn.as_matrix(columns=None)\n",
    "tensorNumpyIn"
   ]
  }
 ],
 "metadata": {
  "kernelspec": {
   "display_name": "Python 3",
   "language": "python",
   "name": "python3"
  },
  "language_info": {
   "codemirror_mode": {
    "name": "ipython",
    "version": 3
   },
   "file_extension": ".py",
   "mimetype": "text/x-python",
   "name": "python",
   "nbconvert_exporter": "python",
   "pygments_lexer": "ipython3",
   "version": "3.6.3"
  }
 },
 "nbformat": 4,
 "nbformat_minor": 2
}
